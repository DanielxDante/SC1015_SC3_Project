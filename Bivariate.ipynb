{
 "cells": [
  {
   "cell_type": "code",
   "execution_count": 1,
   "id": "f229a5ed",
   "metadata": {},
   "outputs": [],
   "source": [
    "import numpy as np\n",
    "import pandas as pd\n",
    "import seaborn as sb\n",
    "import matplotlib.pyplot as plt"
   ]
  },
  {
   "cell_type": "code",
   "execution_count": 2,
   "id": "8ca32e03",
   "metadata": {
    "scrolled": false
   },
   "outputs": [
    {
     "ename": "NameError",
     "evalue": "name 'foodDelivery' is not defined",
     "output_type": "error",
     "traceback": [
      "\u001b[1;31m---------------------------------------------------------------------------\u001b[0m",
      "\u001b[1;31mNameError\u001b[0m                                 Traceback (most recent call last)",
      "Input \u001b[1;32mIn [2]\u001b[0m, in \u001b[0;36m<module>\u001b[1;34m\u001b[0m\n\u001b[1;32m----> 1\u001b[0m foodDelivery[\u001b[38;5;124m'\u001b[39m\u001b[38;5;124mEase and convenient\u001b[39m\u001b[38;5;124m'\u001b[39m] \u001b[38;5;241m=\u001b[39m pd\u001b[38;5;241m.\u001b[39mCategorical(\u001b[43mfoodDelivery\u001b[49m[\u001b[38;5;124m'\u001b[39m\u001b[38;5;124mEase and convenient\u001b[39m\u001b[38;5;124m'\u001b[39m], [\u001b[38;5;124m'\u001b[39m\u001b[38;5;124mStrongly disagree\u001b[39m\u001b[38;5;124m'\u001b[39m,\u001b[38;5;124m'\u001b[39m\u001b[38;5;124mDisagree\u001b[39m\u001b[38;5;124m'\u001b[39m,\u001b[38;5;124m'\u001b[39m\u001b[38;5;124mNeutral\u001b[39m\u001b[38;5;124m'\u001b[39m,\u001b[38;5;124m'\u001b[39m\u001b[38;5;124mAgree\u001b[39m\u001b[38;5;124m'\u001b[39m,\u001b[38;5;124m'\u001b[39m\u001b[38;5;124mStrongly agree\u001b[39m\u001b[38;5;124m'\u001b[39m])\n\u001b[0;32m      2\u001b[0m foodDelivery[\u001b[38;5;124m'\u001b[39m\u001b[38;5;124mTime saving\u001b[39m\u001b[38;5;124m'\u001b[39m] \u001b[38;5;241m=\u001b[39m pd\u001b[38;5;241m.\u001b[39mCategorical(foodDelivery[\u001b[38;5;124m'\u001b[39m\u001b[38;5;124mTime saving\u001b[39m\u001b[38;5;124m'\u001b[39m], [\u001b[38;5;124m'\u001b[39m\u001b[38;5;124mStrongly disagree\u001b[39m\u001b[38;5;124m'\u001b[39m,\u001b[38;5;124m'\u001b[39m\u001b[38;5;124mDisagree\u001b[39m\u001b[38;5;124m'\u001b[39m,\u001b[38;5;124m'\u001b[39m\u001b[38;5;124mNeutral\u001b[39m\u001b[38;5;124m'\u001b[39m,\u001b[38;5;124m'\u001b[39m\u001b[38;5;124mAgree\u001b[39m\u001b[38;5;124m'\u001b[39m,\u001b[38;5;124m'\u001b[39m\u001b[38;5;124mStrongly agree\u001b[39m\u001b[38;5;124m'\u001b[39m])\n\u001b[0;32m      3\u001b[0m foodDelivery[\u001b[38;5;124m'\u001b[39m\u001b[38;5;124mGood Food quality\u001b[39m\u001b[38;5;124m'\u001b[39m] \u001b[38;5;241m=\u001b[39m pd\u001b[38;5;241m.\u001b[39mCategorical(foodDelivery[\u001b[38;5;124m'\u001b[39m\u001b[38;5;124mGood Food quality\u001b[39m\u001b[38;5;124m'\u001b[39m], [\u001b[38;5;124m'\u001b[39m\u001b[38;5;124mStrongly disagree\u001b[39m\u001b[38;5;124m'\u001b[39m,\u001b[38;5;124m'\u001b[39m\u001b[38;5;124mDisagree\u001b[39m\u001b[38;5;124m'\u001b[39m,\u001b[38;5;124m'\u001b[39m\u001b[38;5;124mNeutral\u001b[39m\u001b[38;5;124m'\u001b[39m,\u001b[38;5;124m'\u001b[39m\u001b[38;5;124mAgree\u001b[39m\u001b[38;5;124m'\u001b[39m,\u001b[38;5;124m'\u001b[39m\u001b[38;5;124mStrongly agree\u001b[39m\u001b[38;5;124m'\u001b[39m])\n",
      "\u001b[1;31mNameError\u001b[0m: name 'foodDelivery' is not defined"
     ]
    }
   ],
   "source": [
    "foodDelivery['Ease and convenient'] = pd.Categorical(foodDelivery['Ease and convenient'], ['Strongly disagree','Disagree','Neutral','Agree','Strongly agree'])\n",
    "foodDelivery['Time saving'] = pd.Categorical(foodDelivery['Time saving'], ['Strongly disagree','Disagree','Neutral','Agree','Strongly agree'])\n",
    "foodDelivery['Good Food quality'] = pd.Categorical(foodDelivery['Good Food quality'], ['Strongly disagree','Disagree','Neutral','Agree','Strongly agree'])\n",
    "\n",
    "foodDelivery['Unaffordable'] = pd.Categorical(foodDelivery['Unaffordable'], ['Strongly disagree','Disagree','Neutral','Agree','Strongly agree'])\n",
    "foodDelivery['Late Delivery'] = pd.Categorical(foodDelivery['Late Delivery'], ['Strongly disagree','Disagree','Neutral','Agree','Strongly agree'])\n",
    "\n"
   ]
  },
  {
   "cell_type": "markdown",
   "id": "17520152",
   "metadata": {},
   "source": [
    "### Bivariate Statistics\n",
    "---\n",
    "We can try to predict some of the factors that may be more useful in increasing the number of customers to a restaurant and plot them in a histogram together with Output. These include:\n",
    "- Ease and convenient\n",
    "- Time saving\n",
    "- Good Food quality\n",
    "\n",
    "We can conclude that,\n",
    "- People that find services to be easy and convenient will likely purchase again, vice versa\n",
    "- People that find the services saving their time will likely purchase again, vice versa\n",
    "- People that find the food quality to be good may purchase again, but people that find the food quality to be bad will likely not purchase again"
   ]
  },
  {
   "cell_type": "code",
   "execution_count": null,
   "id": "3ff00967",
   "metadata": {
    "scrolled": false
   },
   "outputs": [],
   "source": [
    "f, axes = plt.subplots(3, 1, figsize = (15, 20))\n",
    "s = 0.7\n",
    "\n",
    "\n",
    "sb.histplot(x = \"Ease and convenient\", hue=\"Output\",multiple=\"dodge\", data = foodDelivery, shrink=s, ax = axes[0], )\n",
    "sb.histplot(x = \"Time saving\", hue=\"Output\",multiple=\"dodge\", data = foodDelivery, shrink=s, ax = axes[1])\n",
    "sb.histplot(x = \"Good Food quality\", hue=\"Output\",multiple=\"dodge\", data = foodDelivery, shrink=s, ax = axes[2])"
   ]
  },
  {
   "cell_type": "markdown",
   "id": "20addd58",
   "metadata": {},
   "source": [
    "### Bivariate Statistics 2\n",
    "---\n",
    "Conversely, we can also try to predict some of the factors that may decrease the number of customers to a restaurant and plot them in a histogram together with Output. These include\n",
    "- Age\n",
    "- Unaffordable\n",
    "- Late Delivery\n",
    "\n",
    "We can conclude that,\n",
    "- People of ages betwen 26 and 29 are unlikely to purchase delivery again, while people between 22 annd 25 are more likely to\n",
    "- People who exprience late delivery are equally likely to purchase or not purchase again\n",
    "- People who find food unaffordable may not purchase again, while people who find food affordable will likely purchase again\n"
   ]
  },
  {
   "cell_type": "code",
   "execution_count": null,
   "id": "ec0ce5d1",
   "metadata": {
    "scrolled": true
   },
   "outputs": [],
   "source": [
    "f, axes = plt.subplots(3, 1, figsize = (15, 20))\n",
    "s = 0.7\n",
    "\n",
    "\n",
    "sb.histplot(x = \"Age\", hue=\"Output\",multiple=\"dodge\", data = foodDelivery, shrink=s, ax = axes[0], )\n",
    "sb.histplot(x = \"Late Delivery\", hue=\"Output\",multiple=\"dodge\", data = foodDelivery, shrink=s, ax = axes[1])\n",
    "sb.histplot(x = \"Unaffordable\", hue=\"Output\",multiple=\"dodge\", data = foodDelivery, shrink=s, ax = axes[2])\n"
   ]
  },
  {
   "cell_type": "code",
   "execution_count": null,
   "id": "1737fea4",
   "metadata": {},
   "outputs": [],
   "source": []
  }
 ],
 "metadata": {
  "kernelspec": {
   "display_name": "Python 3 (ipykernel)",
   "language": "python",
   "name": "python3"
  },
  "language_info": {
   "codemirror_mode": {
    "name": "ipython",
    "version": 3
   },
   "file_extension": ".py",
   "mimetype": "text/x-python",
   "name": "python",
   "nbconvert_exporter": "python",
   "pygments_lexer": "ipython3",
   "version": "3.10.4"
  }
 },
 "nbformat": 4,
 "nbformat_minor": 5
}
