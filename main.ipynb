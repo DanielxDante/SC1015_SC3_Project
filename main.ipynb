{
 "cells": [
  {
   "cell_type": "markdown",
   "id": "11d0c0db",
   "metadata": {},
   "source": [
    "# Essential Libraries\n",
    "---\n",
    "    > NumPy : Library for Numeric Computations in Python\n",
    "    > Pandas : Library for Data Acquisition and Preparation\n",
    "    > Matplotlib : Low-level library for Data Visualization\n",
    "    > Seaborn : Higher-level library for Data Visualization\n",
    "    > Scikit Learn : Regressions and Classification"
   ]
  },
  {
   "cell_type": "code",
   "execution_count": 1,
   "id": "0b8de806",
   "metadata": {},
   "outputs": [],
   "source": [
    "# Basic Libraries\n",
    "import numpy as np\n",
    "import pandas as pd\n",
    "import matplotlib.pyplot as plt # we only need pyplot\n",
    "import seaborn as sb"
   ]
  },
  {
   "cell_type": "code",
   "execution_count": null,
   "id": "5acfeedc",
   "metadata": {},
   "outputs": [],
   "source": []
  }
 ],
 "metadata": {
  "kernelspec": {
   "display_name": "Python 3 (ipykernel)",
   "language": "python",
   "name": "python3"
  },
  "language_info": {
   "codemirror_mode": {
    "name": "ipython",
    "version": 3
   },
   "file_extension": ".py",
   "mimetype": "text/x-python",
   "name": "python",
   "nbconvert_exporter": "python",
   "pygments_lexer": "ipython3",
   "version": "3.9.7"
  }
 },
 "nbformat": 4,
 "nbformat_minor": 5
}
